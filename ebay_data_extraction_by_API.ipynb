{
 "cells": [
  {
   "cell_type": "code",
   "execution_count": 1,
   "id": "cebe734d-46ed-45d2-b1ae-136a74426233",
   "metadata": {},
   "outputs": [
    {
     "name": "stdout",
     "output_type": "stream",
     "text": [
      "✅ Access token retrieved successfully!\n"
     ]
    }
   ],
   "source": [
    "import base64\n",
    "import requests\n",
    "\n",
    "# 🔐 Your Sandbox credentials (keep them private!)\n",
    "client_id = \n",
    "client_secret = \n",
    "\n",
    "# Encode client ID and secret\n",
    "credentials = f\"{client_id}:{client_secret}\"\n",
    "encoded_credentials = base64.b64encode(credentials.encode()).decode()\n",
    "\n",
    "# OAuth2 Token request\n",
    "token_url = 'https://api.sandbox.ebay.com/identity/v1/oauth2/token'\n",
    "headers = {\n",
    "    'Authorization': f'Basic {encoded_credentials}',\n",
    "    'Content-Type': 'application/x-www-form-urlencoded'\n",
    "}\n",
    "data = {\n",
    "    'grant_type': 'client_credentials',\n",
    "    'scope': 'https://api.ebay.com/oauth/api_scope/buy.marketplace.insights'\n",
    "}\n",
    "\n",
    "response = requests.post(token_url, headers=headers, data=data)\n",
    "\n",
    "# Check and extract token\n",
    "if response.status_code == 200:\n",
    "    access_token = response.json()['access_token']\n",
    "    print(\"✅ Access token retrieved successfully!\")\n",
    "else:\n",
    "    print(\"❌ Failed to retrieve token\")\n",
    "    print(\"Status Code:\", response.status_code)\n",
    "    print(\"Details:\", response.text)"
   ]
  },
  {
   "cell_type": "code",
   "execution_count": 3,
   "id": "bb5a516c-be57-4b79-bb13-5f6873f8ebcc",
   "metadata": {},
   "outputs": [],
   "source": [
    "# 🔎 eBay Sandbox API: Get sold iPhone data\n",
    "api_url = 'https://api.sandbox.ebay.com/buy/marketplace_insights/v1_beta/item_sales/search'\n",
    "params = {\n",
    "    'q': 'iphone',            # Keyword to search\n",
    "    'category_ids': '9355',   # Category ID for smartphones\n",
    "    'limit': '10'             # Number of results to fetch\n",
    "}\n",
    "headers = {\n",
    "    'Authorization': f'Bearer {access_token}',\n",
    "    'X-EBAY-C-MARKETPLACE-ID': 'EBAY_US'\n",
    "}\n",
    "\n",
    "# Send GET request to eBay API\n",
    "response = requests.get(api_url, headers=headers, params=params)\n",
    "\n",
    "# Convert JSON response\n",
    "data = response.json()"
   ]
  },
  {
   "cell_type": "code",
   "execution_count": 4,
   "id": "502fae65-e728-4b44-8334-162612ee7fd6",
   "metadata": {},
   "outputs": [
    {
     "data": {
      "text/html": [
       "<div>\n",
       "<style scoped>\n",
       "    .dataframe tbody tr th:only-of-type {\n",
       "        vertical-align: middle;\n",
       "    }\n",
       "\n",
       "    .dataframe tbody tr th {\n",
       "        vertical-align: top;\n",
       "    }\n",
       "\n",
       "    .dataframe thead th {\n",
       "        text-align: right;\n",
       "    }\n",
       "</style>\n",
       "<table border=\"1\" class=\"dataframe\">\n",
       "  <thead>\n",
       "    <tr style=\"text-align: right;\">\n",
       "      <th></th>\n",
       "    </tr>\n",
       "  </thead>\n",
       "  <tbody>\n",
       "  </tbody>\n",
       "</table>\n",
       "</div>"
      ],
      "text/plain": [
       "Empty DataFrame\n",
       "Columns: []\n",
       "Index: []"
      ]
     },
     "execution_count": 4,
     "metadata": {},
     "output_type": "execute_result"
    }
   ],
   "source": [
    "import pandas as pd\n",
    "\n",
    "# Extract key fields\n",
    "items = []\n",
    "for item in data.get('itemSales', []):\n",
    "    items.append({\n",
    "        'Title': item.get('title'),\n",
    "        'Price': item.get('lastSoldPrice', {}).get('value'),\n",
    "        'Currency': item.get('lastSoldPrice', {}).get('currency'),\n",
    "        'Sold Date': item.get('lastSoldDate'),\n",
    "        'Seller': item.get('seller', {}).get('username'),\n",
    "        'Condition': item.get('condition'),\n",
    "        'Quantity Sold': item.get('totalSoldQuantity')\n",
    "    })\n",
    "\n",
    "# Create DataFrame\n",
    "df = pd.DataFrame(items)\n",
    "df"
   ]
  },
  {
   "cell_type": "code",
   "execution_count": 5,
   "id": "058838bf-a0ea-447e-980e-fcaaf1c9fb15",
   "metadata": {},
   "outputs": [
    {
     "data": {
      "text/html": [
       "<div>\n",
       "<style scoped>\n",
       "    .dataframe tbody tr th:only-of-type {\n",
       "        vertical-align: middle;\n",
       "    }\n",
       "\n",
       "    .dataframe tbody tr th {\n",
       "        vertical-align: top;\n",
       "    }\n",
       "\n",
       "    .dataframe thead th {\n",
       "        text-align: right;\n",
       "    }\n",
       "</style>\n",
       "<table border=\"1\" class=\"dataframe\">\n",
       "  <thead>\n",
       "    <tr style=\"text-align: right;\">\n",
       "      <th></th>\n",
       "    </tr>\n",
       "  </thead>\n",
       "  <tbody>\n",
       "  </tbody>\n",
       "</table>\n",
       "</div>"
      ],
      "text/plain": [
       "Empty DataFrame\n",
       "Columns: []\n",
       "Index: []"
      ]
     },
     "execution_count": 5,
     "metadata": {},
     "output_type": "execute_result"
    }
   ],
   "source": [
    "df.head(10)"
   ]
  },
  {
   "cell_type": "code",
   "execution_count": 6,
   "id": "f5f724b8-a114-48d1-808d-c4abb1cba668",
   "metadata": {},
   "outputs": [
    {
     "name": "stdout",
     "output_type": "stream",
     "text": [
      "{\n",
      "    \"href\": \"http://api.sandbox.ebay.com/buy/marketplace_insights/v1_beta/item_sales/search?q=iphone&category_ids=9355&offset=0&limit=10\",\n",
      "    \"total\": 0,\n",
      "    \"limit\": 10,\n",
      "    \"offset\": 0\n",
      "}\n"
     ]
    }
   ],
   "source": [
    "import json\n",
    "print(json.dumps(data, indent=4))"
   ]
  },
  {
   "cell_type": "code",
   "execution_count": null,
   "id": "d0f39f5e-352f-418d-ad20-4db1e53563c3",
   "metadata": {},
   "outputs": [],
   "source": [
    "import requests\n",
    "import base64\n",
    "import pandas as pd\n",
    "import json\n",
    "\n",
    "# --- PASTE YOUR NOW-ACTIVE PRODUCTION KEYS HERE ---\n",
    "CLIENT_ID_PRODUCTION = \"YOUR_ACTIVE_PRODUCTION_CLIENT_ID_HERE\"\n",
    "CLIENT_SECRET_PRODUCTION = \"YOUR_ACTIVE_PRODUCTION_CLIENT_SECRET_HERE\"\n",
    "# ---\n",
    "\n",
    "def get_production_token():\n",
    "    \"\"\"Gets the access token from the REAL eBay production server.\"\"\"\n",
    "    print(\"1. Getting Production access token...\")\n",
    "    url = \"https://api.ebay.com/identity/v1/oauth2/token\" \n",
    "    headers = {\n",
    "        \"Content-Type\": \"application/x-www-form-urlencoded\",\n",
    "        \"Authorization\": \"Basic \" + base64.b64encode(f\"{CLIENT_ID_PRODUCTION}:{CLIENT_SECRET_PRODUCTION}\".encode()).decode(),\n",
    "    }\n",
    "    body = {\"grant_type\": \"client_credentials\", \"scope\": \"https://api.ebay.com/oauth/api_scope\"}\n",
    "    response = requests.post(url, headers=headers, data=body)\n",
    "    response.raise_for_status() \n",
    "    print(\"   SUCCESS! Production Token obtained.\")\n",
    "    return response.json()[\"access_token\"]\n",
    "\n",
    "def get_real_sold_data(access_token, keyword):\n",
    "    \"\"\"Gets sold data from the REAL eBay production server.\"\"\"\n",
    "    print(f\"\\n2. Searching for REAL sold items: '{keyword}'...\")\n",
    "    url = \"https://api.ebay.com/buy/marketplace_insights/v1/item_sales/search\"\n",
    "    headers = {\"Authorization\": f\"Bearer {access_token}\", \"X-EBAY-C-MARKETPLACE-ID\": \"EBAY_US\"}\n",
    "    params = {\"q\": keyword, \"limit\": 100}\n",
    "    response = requests.get(url, headers=headers, params=params)\n",
    "    response.raise_for_status()\n",
    "    print(\"   SUCCESS! Real data received.\")\n",
    "    return response.json()\n",
    "\n",
    "\n",
    "# --- MAIN PROGRAM ---\n",
    "try:\n",
    "    token = get_production_token()\n",
    "    product_to_research = \"iPhone 13\" # Let's research a popular product\n",
    "    sold_data = get_real_sold_data(token, product_to_research)\n",
    "    \n",
    "    if 'itemSales' in sold_data and sold_data['itemSales']:\n",
    "        df = pd.DataFrame(sold_data['itemSales'])\n",
    "        df['price'] = df['lastSoldPrice'].apply(lambda x: float(x['value']))\n",
    "        average_price = df['price'].mean()\n",
    "        \n",
    "        print(\"\\n3. Analysis Complete!\")\n",
    "        print(\"=================================================\")\n",
    "        print(f\"SUCCESS! The average selling price for '{product_to_research}' is: ${average_price:.2f}\")\n",
    "        print(\"=================================================\")\n",
    "        \n",
    "        # Show a sample of the data you received\n",
    "        print(\"\\nHere is a sample of the real data you collected:\")\n",
    "        print(df[['title', 'price', 'condition']].head().to_string())\n",
    "\n",
    "except requests.exceptions.HTTPError as err:\n",
    "    print(f\"\\n--- AN ERROR OCCURRED ---\")\n",
    "    print(\"This shouldn't happen now, but if it does, check that your keys were copied correctly.\")\n",
    "    print(f\"HTTP Error: {err.response.status_code}\")\n",
    "    print(json.dumps(err.response.json(), indent=2))\n"
   ]
  }
 ],
 "metadata": {
  "kernelspec": {
   "display_name": "Python [conda env:base] *",
   "language": "python",
   "name": "conda-base-py"
  },
  "language_info": {
   "codemirror_mode": {
    "name": "ipython",
    "version": 3
   },
   "file_extension": ".py",
   "mimetype": "text/x-python",
   "name": "python",
   "nbconvert_exporter": "python",
   "pygments_lexer": "ipython3",
   "version": "3.11.5"
  }
 },
 "nbformat": 4,
 "nbformat_minor": 5
}
